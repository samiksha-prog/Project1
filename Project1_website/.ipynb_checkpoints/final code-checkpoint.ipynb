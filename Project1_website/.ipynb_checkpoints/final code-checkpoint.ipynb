{
 "cells": [
  {
   "cell_type": "code",
   "execution_count": 1,
   "id": "462ff7f5",
   "metadata": {},
   "outputs": [
    {
     "name": "stdout",
     "output_type": "stream",
     "text": [
      "1/1 [==============================] - 0s 336ms/step\n",
      "1\n"
     ]
    }
   ],
   "source": [
    "import numpy as np\n",
    "import pickle\n",
    "import cv2\n",
    "from tensorflow.keras.utils import img_to_array, load_img\n",
    "from tensorflow.keras.models import model_from_json\n",
    "from keras.applications.vgg16 import preprocess_input\n",
    "\n",
    "# loading svm model\n",
    "model = pickle.load(open('model.pkl','rb'))\n",
    "\n",
    "# loading vgg16 model\n",
    "# load json and create model\n",
    "json_file = open('vgg_model.json', 'r')\n",
    "vgg_model_json = json_file.read()\n",
    "json_file.close()\n",
    "vgg_model = model_from_json(vgg_model_json)\n",
    "# load weights into new model\n",
    "vgg_model.load_weights(\"vgg_model.h5\")\n",
    "\n",
    "img = cv2.imread('Dataset/bad_test/bad_test2.jpg')  #input image over here\n",
    "\n",
    "# ROI Segmentation\n",
    "hsv_img = cv2.cvtColor(img, cv2.COLOR_BGR2HSV)\n",
    "gray_img = cv2.cvtColor(hsv_img, cv2.COLOR_BGR2GRAY)\n",
    "ret, thresh = cv2.threshold(gray_img, 127, 255, cv2.THRESH_BINARY)\n",
    "\n",
    "contours, hierarchy = cv2.findContours(thresh, cv2.RETR_TREE, cv2.CHAIN_APPROX_SIMPLE)\n",
    "# Set minimum area threshold\n",
    "min_area = 50\n",
    "\n",
    "# Iterate through contours\n",
    "for contour in contours:\n",
    "    # Calculate area\n",
    "    area = cv2.contourArea(contour)\n",
    "\n",
    "    # Remove contour if area is below threshold\n",
    "    if area < min_area:\n",
    "        cv2.drawContours(thresh, [contour], 0, 0, -1)\n",
    "\n",
    "# Apply mask to original image\n",
    "result = cv2.bitwise_and(img, img, mask=thresh)\n",
    "cv2.imwrite('./test.jpg', result)\n",
    "\n",
    "# constructing feature matrix using VGG16 model\n",
    "def get_features(img_path):\n",
    "    img = load_img(img_path, target_size=(224, 224))\n",
    "    x = img_to_array(img)\n",
    "    x = np.expand_dims(x, axis=0)\n",
    "    x = preprocess_input(x)\n",
    "    flatten = vgg_model.predict(x)\n",
    "    return list(flatten[0])\n",
    "\n",
    "features_t = []\n",
    "features_t.append(get_features('test.jpg'))\n",
    "\n",
    "# predicting the output using SVM\n",
    "predicted = model.predict(features_t)[0]\n",
    "print(predicted)"
   ]
  },
  {
   "cell_type": "code",
   "execution_count": null,
   "id": "a12346cf",
   "metadata": {},
   "outputs": [],
   "source": []
  }
 ],
 "metadata": {
  "kernelspec": {
   "display_name": "Python 3 (ipykernel)",
   "language": "python",
   "name": "python3"
  },
  "language_info": {
   "codemirror_mode": {
    "name": "ipython",
    "version": 3
   },
   "file_extension": ".py",
   "mimetype": "text/x-python",
   "name": "python",
   "nbconvert_exporter": "python",
   "pygments_lexer": "ipython3",
   "version": "3.9.13"
  }
 },
 "nbformat": 4,
 "nbformat_minor": 5
}
